{
 "cells": [
  {
   "cell_type": "markdown",
   "metadata": {},
   "source": [
    "# Bike-sharing forecasting (regression)"
   ]
  },
  {
   "cell_type": "markdown",
   "metadata": {},
   "source": [
    "In this tutorial we're going to forecast the number of bikes in 5 bike stations from the city of Toulouse. We'll do so by building a simple model step by step. The dataset contains 182,470 observations. Let's first take a peak at the data."
   ]
  },
  {
   "cell_type": "code",
   "execution_count": 2,
   "metadata": {},
   "outputs": [
    {
     "name": "stdout",
     "output_type": "stream",
     "text": [
      "OrderedDict([('moment', datetime.datetime(2016, 4, 1, 0, 0, 7)),\n",
      "             ('station', 'metro-canal-du-midi'),\n",
      "             ('clouds', 75),\n",
      "             ('description', 'light rain'),\n",
      "             ('humidity', 81),\n",
      "             ('pressure', 1017.0),\n",
      "             ('temperature', 6.54),\n",
      "             ('wind', 9.3)])\n",
      "Number of available bikes: 1\n"
     ]
    }
   ],
   "source": [
    "from pprint import pprint\n",
    "from creme import datasets\n",
    "\n",
    "X_y = datasets.fetch_bikes()\n",
    "\n",
    "for x, y in X_y:\n",
    "    pprint(x)\n",
    "    print(f'Number of available bikes: {y}')\n",
    "    break"
   ]
  },
  {
   "cell_type": "markdown",
   "metadata": {},
   "source": [
    "Let's start by using a simple linear regression on the numeric features. We can select the numeric features and discard the rest of the features using a `Whitelister`. Linear regression is very likely to go haywire if we don't scale the data, so we'll use a `StandardScaler` to do just that. We'll evaluate the model by measuring the mean absolute error. Finally we'll print the score every 20,000 observations. "
   ]
  },
  {
   "cell_type": "code",
   "execution_count": 3,
   "metadata": {},
   "outputs": [
    {
     "name": "stdout",
     "output_type": "stream",
     "text": [
      "[20,000] MAE: 5.053584\n",
      "[40,000] MAE: 5.438924\n",
      "[60,000] MAE: 5.406371\n",
      "[80,000] MAE: 5.448842\n",
      "[100,000] MAE: 5.476779\n",
      "[120,000] MAE: 5.598361\n",
      "[140,000] MAE: 5.671348\n",
      "[160,000] MAE: 5.685672\n",
      "[180,000] MAE: 5.633675\n"
     ]
    },
    {
     "data": {
      "text/plain": [
       "MAE: 5.629698"
      ]
     },
     "execution_count": 3,
     "metadata": {},
     "output_type": "execute_result"
    }
   ],
   "source": [
    "from creme import compose\n",
    "from creme import linear_model\n",
    "from creme import metrics\n",
    "from creme import model_selection\n",
    "from creme import preprocessing\n",
    "\n",
    "X_y = datasets.fetch_bikes()\n",
    "\n",
    "model = compose.Whitelister('clouds', 'humidity', 'pressure', 'temperature', 'wind')\n",
    "model |= preprocessing.StandardScaler()\n",
    "model |= linear_model.LinearRegression()\n",
    "\n",
    "metric = metrics.MAE()\n",
    "\n",
    "model_selection.online_score(X_y, model, metric, print_every=20_000)"
   ]
  },
  {
   "cell_type": "markdown",
   "metadata": {},
   "source": [
    "The model doesn't seem to be doing that well, but then again we didn't provide with a lot of features. A generally good idea for this kind of problem is to look at an average of the previous values. For example, for each station we can look at the average number of bikes per hour. To do so we first have to extract the hour from the  `moment` field. We can then use a `TargetAgg` to aggregate the values of the target."
   ]
  },
  {
   "cell_type": "code",
   "execution_count": 4,
   "metadata": {},
   "outputs": [
    {
     "name": "stdout",
     "output_type": "stream",
     "text": [
      "[20,000] MAE: 3.355476\n",
      "[40,000] MAE: 3.513271\n",
      "[60,000] MAE: 3.558013\n",
      "[80,000] MAE: 3.643157\n",
      "[100,000] MAE: 3.637775\n",
      "[120,000] MAE: 3.686437\n",
      "[140,000] MAE: 3.742008\n",
      "[160,000] MAE: 3.71324\n",
      "[180,000] MAE: 3.693873\n"
     ]
    },
    {
     "data": {
      "text/plain": [
       "MAE: 3.693591"
      ]
     },
     "execution_count": 4,
     "metadata": {},
     "output_type": "execute_result"
    }
   ],
   "source": [
    "from creme import feature_extraction\n",
    "from creme import stats\n",
    "\n",
    "X_y = datasets.fetch_bikes()\n",
    "\n",
    "def get_hour(x):\n",
    "    x['hour'] = x['moment'].hour\n",
    "    return x\n",
    "\n",
    "model = compose.Whitelister('clouds', 'humidity', 'pressure', 'temperature', 'wind')\n",
    "model += (\n",
    "    get_hour |\n",
    "    feature_extraction.TargetAgg(by=['station', 'hour'], how=stats.Mean())\n",
    ")\n",
    "model |= preprocessing.StandardScaler()\n",
    "model |= linear_model.LinearRegression()\n",
    "\n",
    "metric = metrics.MAE()\n",
    "\n",
    "model_selection.online_score(X_y, model, metric, print_every=20_000)"
   ]
  },
  {
   "cell_type": "markdown",
   "metadata": {},
   "source": [
    "By adding a single feature, we've managed to significantly reduce the mean absolute error. At this point you might think that the model is getting slightly complex, and is difficult to understand and test. Pipelines have the advantage of being terse, but they aren't always to debug. Thankfully `creme` has some ways to relieve the pain.\n",
    "\n",
    "The first thing we can do it to draw the pipeline, to get an idea of how the data flows through it."
   ]
  },
  {
   "cell_type": "code",
   "execution_count": 5,
   "metadata": {},
   "outputs": [
    {
     "data": {
      "image/svg+xml": [
       "<?xml version=\"1.0\" encoding=\"UTF-8\" standalone=\"no\"?>\n",
       "<!DOCTYPE svg PUBLIC \"-//W3C//DTD SVG 1.1//EN\"\n",
       " \"http://www.w3.org/Graphics/SVG/1.1/DTD/svg11.dtd\">\n",
       "<!-- Generated by graphviz version 2.40.1 (0)\n",
       " -->\n",
       "<!-- Title: %3 Pages: 1 -->\n",
       "<svg width=\"712pt\" height=\"404pt\"\n",
       " viewBox=\"0.00 0.00 712.17 404.00\" xmlns=\"http://www.w3.org/2000/svg\" xmlns:xlink=\"http://www.w3.org/1999/xlink\">\n",
       "<g id=\"graph0\" class=\"graph\" transform=\"scale(1 1) rotate(0) translate(4 400)\">\n",
       "<title>%3</title>\n",
       "<polygon fill=\"#ffffff\" stroke=\"transparent\" points=\"-4,4 -4,-400 708.1696,-400 708.1696,4 -4,4\"/>\n",
       "<!-- x -->\n",
       "<g id=\"node1\" class=\"node\">\n",
       "<title>x</title>\n",
       "<ellipse fill=\"none\" stroke=\"#000000\" cx=\"382.1321\" cy=\"-378\" rx=\"27\" ry=\"18\"/>\n",
       "<text text-anchor=\"middle\" x=\"382.1321\" y=\"-374.3\" font-family=\"Times,serif\" font-size=\"14.00\" fill=\"#000000\">x</text>\n",
       "</g>\n",
       "<!-- [&#39;clouds&#39;, &#39;humidity&#39;, &#39;pressure&#39;, &#39;temperature&#39;, &#39;wind&#39;] -->\n",
       "<g id=\"node2\" class=\"node\">\n",
       "<title>[&#39;clouds&#39;, &#39;humidity&#39;, &#39;pressure&#39;, &#39;temperature&#39;, &#39;wind&#39;]</title>\n",
       "<ellipse fill=\"none\" stroke=\"#000000\" cx=\"202.1321\" cy=\"-234\" rx=\"202.2642\" ry=\"18\"/>\n",
       "<text text-anchor=\"middle\" x=\"202.1321\" y=\"-230.3\" font-family=\"Times,serif\" font-size=\"14.00\" fill=\"#000000\">[&#39;clouds&#39;, &#39;humidity&#39;, &#39;pressure&#39;, &#39;temperature&#39;, &#39;wind&#39;]</text>\n",
       "</g>\n",
       "<!-- x&#45;&gt;[&#39;clouds&#39;, &#39;humidity&#39;, &#39;pressure&#39;, &#39;temperature&#39;, &#39;wind&#39;] -->\n",
       "<g id=\"edge1\" class=\"edge\">\n",
       "<title>x&#45;&gt;[&#39;clouds&#39;, &#39;humidity&#39;, &#39;pressure&#39;, &#39;temperature&#39;, &#39;wind&#39;]</title>\n",
       "<path fill=\"none\" stroke=\"#000000\" d=\"M364.5452,-363.9305C333.9511,-339.4552 270.5842,-288.7617 232.6782,-258.4369\"/>\n",
       "<polygon fill=\"#000000\" stroke=\"#000000\" points=\"234.5349,-255.4401 224.5397,-251.9261 230.162,-260.9062 234.5349,-255.4401\"/>\n",
       "</g>\n",
       "<!-- get_hour -->\n",
       "<g id=\"node3\" class=\"node\">\n",
       "<title>get_hour</title>\n",
       "<ellipse fill=\"none\" stroke=\"#000000\" cx=\"490.1321\" cy=\"-306\" rx=\"44.393\" ry=\"18\"/>\n",
       "<text text-anchor=\"middle\" x=\"490.1321\" y=\"-302.3\" font-family=\"Times,serif\" font-size=\"14.00\" fill=\"#000000\">get_hour</text>\n",
       "</g>\n",
       "<!-- x&#45;&gt;get_hour -->\n",
       "<g id=\"edge2\" class=\"edge\">\n",
       "<title>x&#45;&gt;get_hour</title>\n",
       "<path fill=\"none\" stroke=\"#000000\" d=\"M401.4403,-365.1278C417.2584,-354.5824 439.9639,-339.4455 458.4411,-327.1273\"/>\n",
       "<polygon fill=\"#000000\" stroke=\"#000000\" points=\"460.4786,-329.9755 466.8576,-321.5163 456.5956,-324.1512 460.4786,-329.9755\"/>\n",
       "</g>\n",
       "<!-- StandardScaler -->\n",
       "<g id=\"node5\" class=\"node\">\n",
       "<title>StandardScaler</title>\n",
       "<ellipse fill=\"none\" stroke=\"#000000\" cx=\"382.1321\" cy=\"-162\" rx=\"66.0889\" ry=\"18\"/>\n",
       "<text text-anchor=\"middle\" x=\"382.1321\" y=\"-158.3\" font-family=\"Times,serif\" font-size=\"14.00\" fill=\"#000000\">StandardScaler</text>\n",
       "</g>\n",
       "<!-- [&#39;clouds&#39;, &#39;humidity&#39;, &#39;pressure&#39;, &#39;temperature&#39;, &#39;wind&#39;]&#45;&gt;StandardScaler -->\n",
       "<g id=\"edge5\" class=\"edge\">\n",
       "<title>[&#39;clouds&#39;, &#39;humidity&#39;, &#39;pressure&#39;, &#39;temperature&#39;, &#39;wind&#39;]&#45;&gt;StandardScaler</title>\n",
       "<path fill=\"none\" stroke=\"#000000\" d=\"M246.165,-216.3868C273.1647,-205.5869 307.7091,-191.7692 335.2217,-180.7641\"/>\n",
       "<polygon fill=\"#000000\" stroke=\"#000000\" points=\"336.6512,-183.962 344.6361,-176.9984 334.0514,-177.4627 336.6512,-183.962\"/>\n",
       "</g>\n",
       "<!-- target_mean_by_station_and_hour -->\n",
       "<g id=\"node4\" class=\"node\">\n",
       "<title>target_mean_by_station_and_hour</title>\n",
       "<ellipse fill=\"none\" stroke=\"#000000\" cx=\"563.1321\" cy=\"-234\" rx=\"141.075\" ry=\"18\"/>\n",
       "<text text-anchor=\"middle\" x=\"563.1321\" y=\"-230.3\" font-family=\"Times,serif\" font-size=\"14.00\" fill=\"#000000\">target_mean_by_station_and_hour</text>\n",
       "</g>\n",
       "<!-- get_hour&#45;&gt;target_mean_by_station_and_hour -->\n",
       "<g id=\"edge3\" class=\"edge\">\n",
       "<title>get_hour&#45;&gt;target_mean_by_station_and_hour</title>\n",
       "<path fill=\"none\" stroke=\"#000000\" d=\"M507.0632,-289.3008C516.2142,-280.2751 527.6952,-268.9515 537.8808,-258.9053\"/>\n",
       "<polygon fill=\"#000000\" stroke=\"#000000\" points=\"540.3549,-261.3812 545.0168,-251.8671 535.4393,-256.3974 540.3549,-261.3812\"/>\n",
       "</g>\n",
       "<!-- target_mean_by_station_and_hour&#45;&gt;StandardScaler -->\n",
       "<g id=\"edge4\" class=\"edge\">\n",
       "<title>target_mean_by_station_and_hour&#45;&gt;StandardScaler</title>\n",
       "<path fill=\"none\" stroke=\"#000000\" d=\"M519.7781,-216.7542C492.4603,-205.8875 457.191,-191.8577 429.1932,-180.7204\"/>\n",
       "<polygon fill=\"#000000\" stroke=\"#000000\" points=\"430.2037,-177.3557 419.6182,-176.9116 427.6164,-183.86 430.2037,-177.3557\"/>\n",
       "</g>\n",
       "<!-- LinearRegression -->\n",
       "<g id=\"node6\" class=\"node\">\n",
       "<title>LinearRegression</title>\n",
       "<ellipse fill=\"none\" stroke=\"#000000\" cx=\"382.1321\" cy=\"-90\" rx=\"75.2868\" ry=\"18\"/>\n",
       "<text text-anchor=\"middle\" x=\"382.1321\" y=\"-86.3\" font-family=\"Times,serif\" font-size=\"14.00\" fill=\"#000000\">LinearRegression</text>\n",
       "</g>\n",
       "<!-- StandardScaler&#45;&gt;LinearRegression -->\n",
       "<g id=\"edge6\" class=\"edge\">\n",
       "<title>StandardScaler&#45;&gt;LinearRegression</title>\n",
       "<path fill=\"none\" stroke=\"#000000\" d=\"M382.1321,-143.8314C382.1321,-136.131 382.1321,-126.9743 382.1321,-118.4166\"/>\n",
       "<polygon fill=\"#000000\" stroke=\"#000000\" points=\"385.6322,-118.4132 382.1321,-108.4133 378.6322,-118.4133 385.6322,-118.4132\"/>\n",
       "</g>\n",
       "<!-- y -->\n",
       "<g id=\"node7\" class=\"node\">\n",
       "<title>y</title>\n",
       "<ellipse fill=\"none\" stroke=\"#000000\" cx=\"382.1321\" cy=\"-18\" rx=\"27\" ry=\"18\"/>\n",
       "<text text-anchor=\"middle\" x=\"382.1321\" y=\"-14.3\" font-family=\"Times,serif\" font-size=\"14.00\" fill=\"#000000\">y</text>\n",
       "</g>\n",
       "<!-- LinearRegression&#45;&gt;y -->\n",
       "<g id=\"edge7\" class=\"edge\">\n",
       "<title>LinearRegression&#45;&gt;y</title>\n",
       "<path fill=\"none\" stroke=\"#000000\" d=\"M382.1321,-71.8314C382.1321,-64.131 382.1321,-54.9743 382.1321,-46.4166\"/>\n",
       "<polygon fill=\"#000000\" stroke=\"#000000\" points=\"385.6322,-46.4132 382.1321,-36.4133 378.6322,-46.4133 385.6322,-46.4132\"/>\n",
       "</g>\n",
       "</g>\n",
       "</svg>\n"
      ],
      "text/plain": [
       "<graphviz.dot.Digraph at 0x7febe06b70f0>"
      ]
     },
     "execution_count": 5,
     "metadata": {},
     "output_type": "execute_result"
    }
   ],
   "source": [
    "model.draw()"
   ]
  },
  {
   "cell_type": "markdown",
   "metadata": {},
   "source": [
    "We can also use the `debug_one` method to see what happens to one particular instance. Let's train the model on the first 10,000 observations and then call `debug_one` on the next one. The Pythonic way to read the first 10,000 elements of a generator is to use `itertools.islice`."
   ]
  },
  {
   "cell_type": "code",
   "execution_count": 6,
   "metadata": {},
   "outputs": [
    {
     "name": "stdout",
     "output_type": "stream",
     "text": [
      "0. Input\n",
      "--------\n",
      "moment: 2016-04-10 19:03:27 (datetime)\n",
      "station: place-esquirol (str)\n",
      "clouds: 0 (int)\n",
      "description: clear sky (str)\n",
      "humidity: 52 (int)\n",
      "pressure: 1001.0 (float)\n",
      "temperature: 19.0 (float)\n",
      "wind: 7.7 (float)\n",
      "\n",
      "1. Transformer union\n",
      "--------------------\n",
      "\t1.0 ['clouds', 'humidity', 'pressure', 'temperature', 'wind']\n",
      "\t-------------------------------------------------------------\n",
      "\tpressure: 1001.0 (float)\n",
      "\thumidity: 52 (int)\n",
      "\ttemperature: 19.0 (float)\n",
      "\twind: 7.7 (float)\n",
      "\tclouds: 0 (int)\n",
      "\n",
      "\t1.1 get_hour | target_mean_by_station_and_hour\n",
      "\t----------------------------------------------\n",
      "\ttarget_mean_by_station_and_hour: 7.971751412429379 (float)\n",
      "\n",
      "target_mean_by_station_and_hour: 7.971751412429379 (float)\n",
      "pressure: 1001.0 (float)\n",
      "humidity: 52 (int)\n",
      "temperature: 19.0 (float)\n",
      "wind: 7.7 (float)\n",
      "clouds: 0 (int)\n",
      "\n",
      "2. StandardScaler\n",
      "-----------------\n",
      "target_mean_by_station_and_hour: 0.054954437972970525 (float)\n",
      "pressure: -1.2606960031614776 (float)\n",
      "humidity: -1.730740316831697 (float)\n",
      "temperature: 1.762227519691397 (float)\n",
      "wind: 1.4583358449505492 (float)\n",
      "clouds: -1.361309048621616 (float)\n",
      "\n",
      "3. LinearRegression\n",
      "-------------------\n",
      "\u001b[92m0.09177893004342157\u001b[0m * 0.054954437972970525 (target_mean_by_station_and_hour) +\n",
      "\u001b[92m1.6323875164705886\u001b[0m * -1.2606960031614776 (pressure) +\n",
      "\u001b[91m-1.6079274848579608\u001b[0m * -1.730740316831697 (humidity) +\n",
      "\u001b[91m-2.2568231087623825\u001b[0m * 1.762227519691397 (temperature) +\n",
      "\u001b[92m1.2033788309838465\u001b[0m * 1.4583358449505492 (wind) +\n",
      "\u001b[92m0.37948094672375465\u001b[0m * -1.361309048621616 (clouds)\n",
      "\n",
      "5.136008014865931\n"
     ]
    }
   ],
   "source": [
    "import itertools\n",
    "\n",
    "X_y = datasets.fetch_bikes()\n",
    "\n",
    "model = compose.Whitelister('clouds', 'humidity', 'pressure', 'temperature', 'wind')\n",
    "model += (\n",
    "    get_hour |\n",
    "    feature_extraction.TargetAgg(by=['station', 'hour'], how=stats.Mean())\n",
    ")\n",
    "model |= preprocessing.StandardScaler()\n",
    "model |= linear_model.LinearRegression()\n",
    "\n",
    "for x, y in itertools.islice(X_y, 10000):\n",
    "    y_pred = model.predict_one(x)\n",
    "    model.fit_one(x, y)\n",
    "    \n",
    "x, y = next(X_y)\n",
    "model.debug_one(x)"
   ]
  },
  {
   "cell_type": "markdown",
   "metadata": {},
   "source": [
    "The `debug_one` method shows what happens to an input set of features, step by step.\n",
    "\n",
    "And now comes the catch. Up until now we've been using the `online_score` method from the `model_selection` module. What this does it that it sequentially predicts the output of an observation and updates the model immediately afterwards. This way of doing is often used for evaluating online learning models, but in some cases it is the wrong approach. \n",
    "\n",
    "The following paragraph is extremely important. When evaluating a machine learning model, the goal is to simulate production conditions in order to get a trust-worthy assessment of the performance of the model. In our case, we typically want to forecast the number of bikes available in a station, say, 30 minutes ahead. Then, once the 30 minutes have passed, the true number of available bikes will be available and we will be able to update the model using the features available 30 minutes ago. If you think about, this is exactly how a real-time machine learning system should work. The problem is that this isn't at all what the `online_score` method, indeed it is simply asking the model to predict the next observation, which is only a few minutes ahead, and then updates the model immediately. We can prove that this is flawed by adding a feature that measures a running average of the very recent values."
   ]
  },
  {
   "cell_type": "code",
   "execution_count": 7,
   "metadata": {},
   "outputs": [
    {
     "name": "stdout",
     "output_type": "stream",
     "text": [
      "[20,000] MAE: 0.748938\n",
      "[40,000] MAE: 0.749659\n",
      "[60,000] MAE: 0.798035\n",
      "[80,000] MAE: 0.85266\n",
      "[100,000] MAE: 0.882687\n",
      "[120,000] MAE: 0.89351\n",
      "[140,000] MAE: 0.899763\n",
      "[160,000] MAE: 0.914231\n",
      "[180,000] MAE: 0.924922\n"
     ]
    },
    {
     "data": {
      "text/plain": [
       "MAE: 0.926891"
      ]
     },
     "execution_count": 7,
     "metadata": {},
     "output_type": "execute_result"
    }
   ],
   "source": [
    "X_y = datasets.fetch_bikes()\n",
    "\n",
    "model = compose.Whitelister('clouds', 'humidity', 'pressure', 'temperature', 'wind')\n",
    "model += (\n",
    "    get_hour |\n",
    "    feature_extraction.TargetAgg(by=['station', 'hour'], how=stats.Mean()) + \n",
    "    feature_extraction.TargetAgg(by='station', how=stats.EWMean(0.5))\n",
    ")\n",
    "model |= preprocessing.StandardScaler()\n",
    "model |= linear_model.LinearRegression()\n",
    "\n",
    "metric = metrics.MAE()\n",
    "\n",
    "model_selection.online_score(X_y, model, metric, print_every=20_000)"
   ]
  },
  {
   "cell_type": "markdown",
   "metadata": {},
   "source": [
    "The score we got is too good to be true. This is simply because the problem is too easy. What we really want is to evaluate the model by forecasting 30 minutes ahead and only updating the model once the true values are available. This can be done using the `online_qa_score` method, also from the `model_selection` module. The \"qa\" part stands for \"question/answer\". The idea is that each observation of the stream of the data is shown twice to the model: once for making a prediction, and once for updating the model when the true value is revealed. The `on` parameter determines which variable should be used as a timestamp, while the `lag` parameter controls the duration to wait before revealing the true values to the model."
   ]
  },
  {
   "cell_type": "code",
   "execution_count": 8,
   "metadata": {},
   "outputs": [
    {
     "name": "stdout",
     "output_type": "stream",
     "text": [
      "[20,000] MAE: 13.743465\n",
      "[40,000] MAE: 7.990616\n",
      "[60,000] MAE: 6.101015\n",
      "[80,000] MAE: 5.159895\n",
      "[100,000] MAE: 4.593369\n",
      "[120,000] MAE: 4.19251\n",
      "[140,000] MAE: 3.904753\n",
      "[160,000] MAE: 3.725466\n",
      "[180,000] MAE: 3.568893\n"
     ]
    },
    {
     "data": {
      "text/plain": [
       "MAE: 3.555296"
      ]
     },
     "execution_count": 8,
     "metadata": {},
     "output_type": "execute_result"
    }
   ],
   "source": [
    "import datetime as dt\n",
    "\n",
    "model = compose.Whitelister('clouds', 'humidity', 'pressure', 'temperature', 'wind')\n",
    "model += (\n",
    "    get_hour |\n",
    "    feature_extraction.TargetAgg(by=['station', 'hour'], how=stats.Mean()) + \n",
    "    feature_extraction.TargetAgg(by='station', how=stats.EWMean(0.5))\n",
    ")\n",
    "model |= preprocessing.StandardScaler()\n",
    "model |= linear_model.LinearRegression()\n",
    "\n",
    "model_selection.online_qa_score(\n",
    "    X_y=datasets.fetch_bikes(),\n",
    "    model=model,\n",
    "    metric=metrics.MAE(),\n",
    "    on='moment',\n",
    "    lag=dt.timedelta(minutes=30),\n",
    "    print_every=20_000\n",
    ")"
   ]
  },
  {
   "cell_type": "markdown",
   "metadata": {},
   "source": [
    "The score we now have is much more realistic, as it is comparable with [related data science competitions](https://maxhalford.github.io/blog/a-short-introduction-and-conclusion-to-the-openbikes-2016-challenge/). Moreover, we can see that the model gets better with time, which feels better than the previous situations. The point is that `online_qa_score` method can be used to simulate a production scenario, and is thus extremely valuable.\n",
    "\n",
    "Now that we have a working pipeline in place, we can attempt to make it more accurate. As a simple example, we'll using a `HedgeRegressor` from the `ensemble` module to combine 3 linear regression model trained with different optimizers. The `HedgeRegressor` will run the 3 models in parallel and assign weights to each model based on their individual performance."
   ]
  },
  {
   "cell_type": "code",
   "execution_count": 9,
   "metadata": {},
   "outputs": [
    {
     "name": "stdout",
     "output_type": "stream",
     "text": [
      "[20,000] MAE: 3.880332\n",
      "[40,000] MAE: 3.071071\n",
      "[60,000] MAE: 2.834631\n",
      "[80,000] MAE: 2.715195\n",
      "[100,000] MAE: 2.643281\n",
      "[120,000] MAE: 2.572107\n",
      "[140,000] MAE: 2.520261\n",
      "[160,000] MAE: 2.515386\n",
      "[180,000] MAE: 2.498811\n"
     ]
    },
    {
     "data": {
      "text/plain": [
       "MAE: 2.499835"
      ]
     },
     "execution_count": 9,
     "metadata": {},
     "output_type": "execute_result"
    }
   ],
   "source": [
    "from creme import ensemble\n",
    "from creme import optim\n",
    "\n",
    "model = compose.Whitelister('clouds', 'humidity', 'pressure', 'temperature', 'wind')\n",
    "model += (\n",
    "    get_hour |\n",
    "    feature_extraction.TargetAgg(by=['station', 'hour'], how=stats.Mean())\n",
    ")\n",
    "model += feature_extraction.TargetAgg(by='station', how=stats.EWMean(0.5))\n",
    "model |= preprocessing.StandardScaler()\n",
    "model |= ensemble.HedgeRegressor([\n",
    "    linear_model.LinearRegression(optim.VanillaSGD()),\n",
    "    linear_model.LinearRegression(optim.RMSProp()),\n",
    "    linear_model.LinearRegression(optim.Adam())\n",
    "])\n",
    "\n",
    "model_selection.online_qa_score(\n",
    "    X_y=datasets.fetch_bikes(),\n",
    "    model=model,\n",
    "    metric=metrics.MAE(),\n",
    "    on='moment',\n",
    "    lag=dt.timedelta(minutes=30),\n",
    "    print_every=20_000\n",
    ")"
   ]
  }
 ],
 "metadata": {
  "kernelspec": {
   "display_name": "Python 3",
   "language": "python",
   "name": "python3"
  },
  "language_info": {
   "codemirror_mode": {
    "name": "ipython",
    "version": 3
   },
   "file_extension": ".py",
   "mimetype": "text/x-python",
   "name": "python",
   "nbconvert_exporter": "python",
   "pygments_lexer": "ipython3",
   "version": "3.7.3"
  }
 },
 "nbformat": 4,
 "nbformat_minor": 2
}
